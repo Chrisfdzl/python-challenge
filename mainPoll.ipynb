{
 "cells": [
  {
   "cell_type": "code",
   "execution_count": 38,
   "metadata": {},
   "outputs": [
    {
     "name": "stdout",
     "output_type": "stream",
     "text": [
      "Election Results\n",
      "-------------------------\n",
      "Total Votes 3521001\n",
      "-------------------------\n",
      "O'Tooley\n",
      "-------------------------\n",
      "Winner\n",
      "-------------------------\n"
     ]
    }
   ],
   "source": [
    "import csv\n",
    "import os\n",
    "\n",
    "e_file = os.path.join('..', 'PyPoll', '03-Python_Homework_Instructions_PyPoll_Resources_election_data.csv')\n",
    "\n",
    "\n",
    "total_votes = 0\n",
    "winner = 0\n",
    "\n",
    "with open(e_file) as csvfile:\n",
    "    reader = csv.DictReader(csvfile)\n",
    "    \n",
    "    print(\"Election Results\")\n",
    "    print(\"-------------------------\")\n",
    "\n",
    "    for row in reader:\n",
    "        total_votes = total_votes + 1     \n",
    "        \n",
    "    print(\"Total Votes \" + str(total_votes))\n",
    "    print(\"-------------------------\")\n",
    "    \n",
    "with open(e_file) as csvfile:\n",
    "    reader = csv.DictReader(csvfile)\n",
    "\n",
    "\n",
    "    for row in reader:\n",
    "      \n",
    "        total_candidates = row[\"Candidate\"]        \n",
    "        \n",
    "    print(total_candidates)\n",
    "    print(\"-------------------------\") \n",
    "    print(\"Winner\") \n",
    "    print(\"-------------------------\") \n",
    "    \n",
    "    \n",
    "    \n",
    "txt_File = os.path.join('..', 'PyPoll','Electionsreport.txt')\n",
    "with open(txt_File, \"w\") as txt_file:\n",
    "    \n",
    "    txt_file.write(\"Election Results\")\n",
    "    txt_file.write(\"\\n\")\n",
    "    txt_file.write(\"-------------------------\")\n",
    "    txt_file.write(\"\\n\")\n",
    "    txt_file.write(\"Total Votes: \" + str(total_votes))\n",
    "    txt_file.write(\"\\n\")\n",
    "    txt_file.write(\"-------------------------\")\n",
    "    txt_file.write(\"\\n\")\n",
    "    txt_file.write(\"\\n\")\n",
    "    txt_file.write(\"-------------------------\")\n",
    "    txt_file.write(\"\\n\")\n",
    "    txt_file.write(\"Winner: \")    \n",
    "    txt_file.write(\"\\n\")\n",
    "    txt_file.write(\"-------------------------\")"
   ]
  },
  {
   "cell_type": "code",
   "execution_count": null,
   "metadata": {},
   "outputs": [],
   "source": []
  }
 ],
 "metadata": {
  "kernelspec": {
   "display_name": "Python 3",
   "language": "python",
   "name": "python3"
  },
  "language_info": {
   "codemirror_mode": {
    "name": "ipython",
    "version": 3
   },
   "file_extension": ".py",
   "mimetype": "text/x-python",
   "name": "python",
   "nbconvert_exporter": "python",
   "pygments_lexer": "ipython3",
   "version": "3.7.3"
  }
 },
 "nbformat": 4,
 "nbformat_minor": 4
}

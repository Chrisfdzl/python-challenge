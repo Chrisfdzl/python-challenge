{
 "cells": [
  {
   "cell_type": "code",
   "execution_count": 141,
   "metadata": {},
   "outputs": [
    {
     "name": "stdout",
     "output_type": "stream",
     "text": [
      "Financial Analysis\n",
      "-------------------------\n",
      "Total Months: 86\n",
      "Total: $38382578\n",
      "Average change $671099.0\n",
      "Greatest Increase in Profits: Feb-2017 ($671099)\n",
      "Greatest Decrease in Profits: Feb-2017 ($671099)\n"
     ]
    }
   ],
   "source": [
    "\n",
    "import csv\n",
    "import os\n",
    "file = os.path.join('..', 'PyBank', '03-Python_Homework_Instructions_PyBank_Resources_budget_data.csv')\n",
    "\n",
    "\n",
    "total_months = 0\n",
    "total_total = 0\n",
    "previous_total = 0\n",
    "total_change = 0\n",
    "greatest_increase = [\"\", 0]\n",
    "greatest_decrease = [\"\", 999999999]\n",
    "total_changes = []\n",
    "\n",
    "with open(file) as csvfile:\n",
    "    reader = csv.DictReader(csvfile)\n",
    "    \n",
    "    print(\"Financial Analysis\")\n",
    "    print(\"-------------------------\")\n",
    "\n",
    "    for row in reader:\n",
    "\n",
    "        total_months = total_months + 1\n",
    "    print(\"Total Months: \" + str(total_months))\n",
    "    \n",
    "with open(file) as csvfile:\n",
    "    reader = csv.DictReader(csvfile)\n",
    "    for row in reader:\n",
    "        total_total = total_total + int(row[\"Profit/Losses\"])\n",
    "    print(\"Total: \" + \"$\" + str(total_total))\n",
    "    \n",
    "    total_change = int(row[\"Profit/Losses\"]) - previous_total\n",
    "    previous_total = int(row[\"Profit/Losses\"])\n",
    "         \n",
    "    if (total_change > greatest_increase[1]):\n",
    "            greatest_increase[1] = total_change\n",
    "            greatest_increase[0] = row[\"Date\"]\n",
    "            \n",
    "    if (total_change < greatest_decrease[1]):\n",
    "            greatest_decrease[1] = total_change\n",
    "            greatest_decrease[0] = row[\"Date\"]            \n",
    "    \n",
    "    total_changes.append(int(row[\"Profit/Losses\"]))\n",
    "    \n",
    "    #total_average = sum(total_changes)/len(total_changes)       \n",
    "    \n",
    "    print(\"Average change \" + \"$\" + str(round(sum(total_changes)/len(total_changes),2)))        \n",
    "    print(\"Greatest Increase in Profits: \" + str(greatest_increase[0]) + \" ($\" +  str(greatest_increase[1]) + \")\") \n",
    "    print(\"Greatest Decrease in Profits: \" + str(greatest_decrease[0]) + \" ($\" +  str(greatest_decrease[1]) + \")\")\n",
    "    \n",
    "    \n",
    "txt_file = os.path.join('..', 'PyBank','Pybankreport.txt')\n",
    "with open(txt_file, \"w\") as txt_file:\n",
    "    txt_file.write(\"Total Months: \" + str(total_months))\n",
    "    txt_file.write(\"\\n\")\n",
    "    txt_file.write(\"Total: \" + \"$\" + str(total_total))\n",
    "    txt_file.write(\"\\n\")\n",
    "    txt_file.write(\"Average Change: \" + \"$\" + str(round(sum(total_changes) / len(total_changes),2)))\n",
    "    txt_file.write(\"\\n\")\n",
    "    txt_file.write(\"Greatest Increase in Profits: \" + str(greatest_increase[0]) + \" ($\" + str(greatest_increase[1]) + \")\") \n",
    "    txt_file.write(\"\\n\")\n",
    "    txt_file.write(\"Greatest Decrease in Profits: \" + str(greatest_decrease[0]) + \" ($\" + str(greatest_decrease[1]) + \")\")"
   ]
  },
  {
   "cell_type": "code",
   "execution_count": null,
   "metadata": {},
   "outputs": [],
   "source": []
  }
 ],
 "metadata": {
  "kernelspec": {
   "display_name": "Python 3",
   "language": "python",
   "name": "python3"
  },
  "language_info": {
   "codemirror_mode": {
    "name": "ipython",
    "version": 3
   },
   "file_extension": ".py",
   "mimetype": "text/x-python",
   "name": "python",
   "nbconvert_exporter": "python",
   "pygments_lexer": "ipython3",
   "version": "3.7.3"
  }
 },
 "nbformat": 4,
 "nbformat_minor": 4
}
